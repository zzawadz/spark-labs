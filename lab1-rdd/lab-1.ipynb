{
 "cells": [
  {
   "cell_type": "markdown",
   "metadata": {},
   "source": []
  },
  {
   "cell_type": "code",
   "execution_count": null,
   "metadata": {},
   "outputs": [],
   "source": [
    "from pyspark.sql import SparkSession \n",
    "\n",
    "# Create a SparkSession \n",
    "spark = SparkSession.builder \\\n",
    "    .appName(\"MyPySparkApp\") \\\n",
    "    .master(\"local[3]\") \\\n",
    "    .getOrCreate() "
   ]
  },
  {
   "cell_type": "code",
   "execution_count": 7,
   "metadata": {},
   "outputs": [],
   "source": [
    "\n",
    "\n",
    "import string\n",
    "string.ascii_letters\n",
    "df = spark.createDataFrame([(i % 3, string.ascii_letters[i], i) for i in range(0, 20)], ['shard', 'letter', 'id'])"
   ]
  },
  {
   "cell_type": "code",
   "execution_count": null,
   "metadata": {},
   "outputs": [],
   "source": [
    "df.rdd.getNumPartitions()"
   ]
  },
  {
   "cell_type": "code",
   "execution_count": null,
   "metadata": {},
   "outputs": [],
   "source": [
    "df.rdd.glom().map(len).collect()"
   ]
  },
  {
   "cell_type": "code",
   "execution_count": null,
   "metadata": {},
   "outputs": [],
   "source": [
    "from pyspark.sql.functions  import spark_partition_id\n",
    "df.withColumn(\"partitionId\", spark_partition_id()).groupBy(\"partitionId\").count().show()"
   ]
  },
  {
   "cell_type": "code",
   "execution_count": null,
   "metadata": {},
   "outputs": [],
   "source": [
    "df.repartition(3, 'shard').withColumn(\"partitionId\", spark_partition_id()).groupBy(\"partitionId\", \"shard\").count().show()"
   ]
  },
  {
   "cell_type": "code",
   "execution_count": null,
   "metadata": {},
   "outputs": [],
   "source": [
    "df.repartition(3, 'shard').rdd.getNumPartitions()"
   ]
  },
  {
   "cell_type": "code",
   "execution_count": 39,
   "metadata": {},
   "outputs": [],
   "source": [
    "df_large = spark.createDataFrame(\n",
    "    [(i % 5, string.ascii_letters[i %24], i) for i in list(range(0, 200)) + [20] * 1000 ], ['shard', 'letter', 'id']\n",
    ")"
   ]
  },
  {
   "cell_type": "code",
   "execution_count": null,
   "metadata": {},
   "outputs": [],
   "source": [
    "df_large.groupBy('shard').count().show()\n",
    "df_large.withColumn(\"partitionId\", spark_partition_id()).groupBy(\"partitionId\").count().show()\n",
    "df_large.repartition(10, 'shard').withColumn(\"partitionId\", spark_partition_id()).groupBy(\"partitionId\").count().show()"
   ]
  },
  {
   "cell_type": "code",
   "execution_count": null,
   "metadata": {},
   "outputs": [],
   "source": [
    "import string\n",
    "string.ascii_letters\n",
    "df = spark.createDataFrame([(i % 3, string.ascii_letters[i], i) for i in range(0, 9)], ['shard', 'letter', 'id'])\n",
    "df = df.withColumn(\"partitionId\", spark_partition_id())\n",
    "df.show()\n"
   ]
  },
  {
   "cell_type": "code",
   "execution_count": null,
   "metadata": {},
   "outputs": [],
   "source": [
    "from pyspark.sql.functions import udf\n",
    "from pyspark.sql.types import IntegerType\n",
    "from pyspark.sql.functions import col\n",
    "from time import sleep\n",
    "import logging\n",
    "\n",
    "\n",
    "def string_length(name, partitionId):\n",
    "\n",
    "    logging.basicConfig(\n",
    "        level=logging.INFO,  # Set the logging level (DEBUG, INFO, WARNING, ERROR, CRITICAL)\n",
    "        format=\"%(asctime)s - %(name)s - %(levelname)s - %(message)s\",  # Define the log format\n",
    "        handlers=[\n",
    "            logging.StreamHandler()  # Output logs to the console\n",
    "        ]\n",
    "    )\n",
    "    logger = logging.getLogger('SPARK')\n",
    "    logger.info(f'{name} - partition_id: {partitionId}')\n",
    "    sleep(0.5)\n",
    "    return len(name) if name else 0\n",
    "string_length_udf = udf(string_length, IntegerType())\n",
    "\n",
    "x = df.withColumn(\"name_length\", string_length_udf(df[\"letter\"], df['partitionId'])).collect()\n",
    "sleep(2)\n",
    "print(\"One partition:\")\n",
    "x = df.repartition(1).withColumn(\"partitionId\", spark_partition_id()).withColumn(\"name_length\", string_length_udf(df[\"letter\"], col('partitionId'))).collect()\n",
    "sleep(2)\n",
    "print(\"Two partition:\")\n",
    "x = df.repartition(2).withColumn(\"partitionId\", spark_partition_id()).withColumn(\"name_length\", string_length_udf(df[\"letter\"], col('partitionId'))).collect()"
   ]
  },
  {
   "cell_type": "code",
   "execution_count": null,
   "metadata": {},
   "outputs": [],
   "source": [
    "df.repartition(1).withColumn(\"partitionId\", spark_partition_id())"
   ]
  },
  {
   "cell_type": "code",
   "execution_count": null,
   "metadata": {},
   "outputs": [],
   "source": [
    "df = spark.createDataFrame([(i % 3, string.ascii_letters[i], i) for i in list(range(0, 9)) + [0] *10], ['shard', 'letter', 'id'])\n",
    "df = df.repartition(5,'shard').withColumn(\"partitionId\", spark_partition_id())\n",
    "x = df.withColumn(\"name_length\", string_length_udf(df[\"letter\"], df['partitionId'])).collect()"
   ]
  },
  {
   "cell_type": "code",
   "execution_count": 68,
   "metadata": {},
   "outputs": [],
   "source": [
    "df = spark.createDataFrame([(i % 3, string.ascii_letters[i], i) for i in range(0, 9)], ['shard', 'letter', 'id'])\n",
    "df = df.withColumn(\"partitionId\", spark_partition_id())\n",
    "df = df.withColumn(\"name_length\", string_length_udf(df[\"letter\"], df['partitionId']))"
   ]
  },
  {
   "cell_type": "code",
   "execution_count": null,
   "metadata": {},
   "outputs": [],
   "source": [
    "df2 = spark.createDataFrame([(string.ascii_letters[i], i *100) for i in range(0, 5)], ['letter', 'id100'])\n"
   ]
  },
  {
   "cell_type": "code",
   "execution_count": null,
   "metadata": {},
   "outputs": [],
   "source": [
    "df.join(df2, how='inner', on='letter').show()\n",
    "df2.groupBy(['letter']).count().show()"
   ]
  },
  {
   "cell_type": "code",
   "execution_count": null,
   "metadata": {},
   "outputs": [],
   "source": [
    "df.groupBy(['letter']).count().show()\n",
    "df.groupBy(['letter','name_length']).count().show()"
   ]
  },
  {
   "cell_type": "code",
   "execution_count": null,
   "metadata": {},
   "outputs": [],
   "source": [
    "df.cache()\n",
    "df.join(df2, how='inner', on='letter').show()\n",
    "df.groupBy(['letter','name_length']).count().show()"
   ]
  },
  {
   "cell_type": "code",
   "execution_count": null,
   "metadata": {},
   "outputs": [],
   "source": [
    "df.join(df2, how='inner', on='letter').explain()"
   ]
  },
  {
   "cell_type": "code",
   "execution_count": null,
   "metadata": {},
   "outputs": [],
   "source": [
    "df.groupBy(['letter','name_length']).count().explain()"
   ]
  },
  {
   "cell_type": "code",
   "execution_count": 94,
   "metadata": {},
   "outputs": [],
   "source": [
    "df.repartition(3, 'shard').write.partitionBy('shard').mode('overwrite').parquet('tables/df')"
   ]
  },
  {
   "cell_type": "code",
   "execution_count": null,
   "metadata": {},
   "outputs": [],
   "source": [
    "df.rdd.getNumPartitions()"
   ]
  },
  {
   "cell_type": "code",
   "execution_count": null,
   "metadata": {},
   "outputs": [],
   "source": [
    "\n",
    "x = spark.read.parquet('tables/df').withColumn(\"partitionId\", spark_partition_id()).withColumn(\"name_length\", string_length_udf(col(\"letter\"), col('partitionId'))).collect()\n",
    "sleep(2)\n",
    "print(\"Filter:\")\n",
    "x = spark.read.parquet('tables/df').filter(col('shard') == 1).withColumn(\"partitionId\", spark_partition_id()).withColumn(\"name_length\", string_length_udf(col(\"letter\"), col('partitionId'))).collect()\n",
    "\n",
    "print(\"Filter after:\")\n",
    "x = spark.read.parquet('tables/df').withColumn(\"partitionId\", spark_partition_id()).withColumn(\"name_length\", string_length_udf(col(\"letter\"), col('partitionId'))).filter(col('shard') == 1).collect()\n"
   ]
  },
  {
   "cell_type": "code",
   "execution_count": null,
   "metadata": {},
   "outputs": [],
   "source": [
    "spark.read.parquet('tables/df').filter(col('shard') == 1).withColumn(\"partitionId\", spark_partition_id()).withColumn(\"name_length\", string_length_udf(col(\"letter\"), col('partitionId'))).explain(mode=\"extended\")\n"
   ]
  },
  {
   "cell_type": "code",
   "execution_count": null,
   "metadata": {},
   "outputs": [],
   "source": [
    "spark.read.parquet('tables/df').withColumn(\"partitionId\", spark_partition_id()).withColumn(\"name_length\", string_length_udf(col(\"letter\"), col('partitionId'))).filter(col('shard') == 1).explain(mode=\"extended\")"
   ]
  },
  {
   "cell_type": "code",
   "execution_count": null,
   "metadata": {},
   "outputs": [],
   "source": []
  }
 ],
 "metadata": {
  "kernelspec": {
   "display_name": ".venv",
   "language": "python",
   "name": "python3"
  },
  "language_info": {
   "codemirror_mode": {
    "name": "ipython",
    "version": 3
   },
   "file_extension": ".py",
   "mimetype": "text/x-python",
   "name": "python",
   "nbconvert_exporter": "python",
   "pygments_lexer": "ipython3",
   "version": "3.13.0"
  }
 },
 "nbformat": 4,
 "nbformat_minor": 2
}
